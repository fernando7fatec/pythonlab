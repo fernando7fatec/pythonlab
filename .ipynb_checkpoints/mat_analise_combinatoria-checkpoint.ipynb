{
 "cells": [
  {
   "cell_type": "markdown",
   "metadata": {},
   "source": [
    "## Análise combinatória\n",
    "Definir o número de pares ordenados de dois conjuntos (A e B) ***ligeiramente diferentes***, sendo A={a1,a2,a3,...,m} e B={b1,b2,b3,...,n} , sendo $ ai \\in A \\space e \\space bi \\in B $\n"
   ]
  },
  {
   "cell_type": "code",
   "execution_count": 48,
   "metadata": {},
   "outputs": [
    {
     "name": "stdout",
     "output_type": "stream",
     "text": [
      "Numero de elementos em A é  2  m \n",
      "Numero de elementos em B é  5  n \n",
      "Total de pares ordenados portanto é (m * n) = 10\n"
     ]
    }
   ],
   "source": [
    "# Definimos grupo A e B , com m e n elementos, respectivamente:\n",
    "# Sendo que (ai E A  e bj E a B)\n",
    "A = [1,2]\n",
    "B = [6,7,8,9,10]\n",
    "\n",
    "print('Numero de elementos em A é ',len(A), \" m \")\n",
    "print('Numero de elementos em B é ',len(B), \" n \")\n",
    "print('Total de pares ordenados portanto é (m * n) =', len(A)*len(B))\n"
   ]
  },
  {
   "cell_type": "code",
   "execution_count": 56,
   "metadata": {},
   "outputs": [
    {
     "name": "stdout",
     "output_type": "stream",
     "text": [
      "(1, 2)\n",
      "(2, 1)\n"
     ]
    }
   ],
   "source": [
    "from itertools import permutations\n",
    "\n",
    "for s in permutations(A,2):\n",
    "    print(s)"
   ]
  },
  {
   "cell_type": "markdown",
   "metadata": {},
   "source": [
    "#### Obter o produto Cartesiano sendo (ai $\\in$ A) e (bj $\\in$ B) $ AxB = \\{(ai,bj),...,(an,bm)\\} $"
   ]
  },
  {
   "cell_type": "code",
   "execution_count": 47,
   "metadata": {},
   "outputs": [
    {
     "name": "stdout",
     "output_type": "stream",
     "text": [
      " C = [(1, 6), (1, 7), (1, 8), (1, 9), (1, 10), (2, 6), (2, 7), (2, 8), (2, 9), (2, 10)] \n",
      "\n",
      " Serão 10 pares ordenados \n",
      "\n"
     ]
    }
   ],
   "source": [
    "res = [ (a,b) for a in A for b in B ]\n",
    "print(\" C =\", res,\"\\n\")\n",
    "print( \" Serão\", len(res), \"pares ordenados \\n\")"
   ]
  },
  {
   "cell_type": "code",
   "execution_count": 60,
   "metadata": {},
   "outputs": [
    {
     "name": "stdout",
     "output_type": "stream",
     "text": [
      "(1, 6)\n",
      "(1, 7)\n",
      "(1, 8)\n",
      "(1, 9)\n",
      "(1, 10)\n",
      "(2, 6)\n",
      "(2, 7)\n",
      "(2, 8)\n",
      "(2, 9)\n",
      "(2, 10)\n"
     ]
    }
   ],
   "source": [
    "from itertools import product\n",
    "\n",
    "for a in product(A,B):\n",
    "    print(a)"
   ]
  },
  {
   "cell_type": "code",
   "execution_count": null,
   "metadata": {},
   "outputs": [],
   "source": []
  }
 ],
 "metadata": {
  "kernelspec": {
   "display_name": "Python 3",
   "language": "python",
   "name": "python3"
  },
  "language_info": {
   "codemirror_mode": {
    "name": "ipython",
    "version": 3
   },
   "file_extension": ".py",
   "mimetype": "text/x-python",
   "name": "python",
   "nbconvert_exporter": "python",
   "pygments_lexer": "ipython3",
   "version": "3.7.4"
  }
 },
 "nbformat": 4,
 "nbformat_minor": 4
}
